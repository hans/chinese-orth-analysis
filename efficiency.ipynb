{
 "cells": [
  {
   "cell_type": "code",
   "execution_count": 47,
   "metadata": {},
   "outputs": [],
   "source": [
    "import json\n",
    "import re\n",
    "import unicodedata\n",
    "\n",
    "import pandas as pd\n",
    "import numpy as np\n",
    "import seaborn as sns\n",
    "from scipy import stats\n",
    "%matplotlib inline"
   ]
  },
  {
   "cell_type": "code",
   "execution_count": 4,
   "metadata": {},
   "outputs": [],
   "source": [
    "ids = pd.read_csv(\"ids.txt\", sep=\"\\t\", header=None, comment=\"#\",\n",
    "                  names=[\"codepoint\", \"character\", \"decomposition\"]).set_index(\"codepoint\")"
   ]
  },
  {
   "cell_type": "code",
   "execution_count": 5,
   "metadata": {},
   "outputs": [],
   "source": [
    "# Load radical data.\n",
    "with open(\"unihan-json/kRSKangXi.json\", \"r\") as rad_f:\n",
    "    rad_dict = json.load(rad_f)\n",
    "    rad_dict = {char: int(vals.split(\".\")[0]) for char, vals in rad_dict.items()}"
   ]
  },
  {
   "cell_type": "code",
   "execution_count": 6,
   "metadata": {},
   "outputs": [],
   "source": [
    "# Load pronunciation / tone / frequency data.\n",
    "with open(\"unihan-json/kHanyuPinlu.json\", \"r\") as hanyu_f:\n",
    "    hanyu_dict = json.load(hanyu_f)\n",
    "    # Retain the max-frequency reading.\n",
    "    hanyu_dict = {char: max([(freq, reading) for reading, freq in readings.items()])\n",
    "                  for char, readings in hanyu_dict.items()}"
   ]
  },
  {
   "cell_type": "code",
   "execution_count": 7,
   "metadata": {},
   "outputs": [],
   "source": [
    "tone_string_re = re.compile(r\"^([^\\d]*)([1-5]?)([^\\d]*)$\", flags=re.UNICODE)\n",
    "table = {0x304: ord('1'), 0x301: ord('2'), 0x30c: ord('3'),\n",
    "         0x300: ord('4')}\n",
    "def analyze_tone(s):\n",
    "    \"\"\"\n",
    "    Analyze tone and segmental content of a single character.\n",
    "    \"\"\"\n",
    "    if s is None:\n",
    "        return None, None\n",
    "    analyzed = unicodedata.normalize(\"NFD\", s).translate(table)\n",
    "    try:\n",
    "        start, tone_num, end = tone_string_re.findall(analyzed)[0]\n",
    "    except IndexError:\n",
    "        print(s, analyzed)\n",
    "        return \n",
    "    \n",
    "    tone_num = int(tone_num) if tone_num else 5\n",
    "    return start + end, tone_num"
   ]
  },
  {
   "cell_type": "code",
   "execution_count": 8,
   "metadata": {},
   "outputs": [],
   "source": [
    "ids[\"radical\"] = ids.character.map(rad_dict)\n",
    "ids[\"frequency\"], ids[\"pinyin\"] = zip(*ids.character.map(hanyu_dict).apply(lambda x: (None, None) if x is np.nan else x))\n",
    "ids[\"pinyin_toneless\"], ids[\"tone\"] = zip(*ids.pinyin.map(analyze_tone))"
   ]
  },
  {
   "cell_type": "code",
   "execution_count": 9,
   "metadata": {},
   "outputs": [
    {
     "data": {
      "text/html": [
       "<div>\n",
       "<style scoped>\n",
       "    .dataframe tbody tr th:only-of-type {\n",
       "        vertical-align: middle;\n",
       "    }\n",
       "\n",
       "    .dataframe tbody tr th {\n",
       "        vertical-align: top;\n",
       "    }\n",
       "\n",
       "    .dataframe thead th {\n",
       "        text-align: right;\n",
       "    }\n",
       "</style>\n",
       "<table border=\"1\" class=\"dataframe\">\n",
       "  <thead>\n",
       "    <tr style=\"text-align: right;\">\n",
       "      <th></th>\n",
       "      <th>character</th>\n",
       "      <th>decomposition</th>\n",
       "      <th>radical</th>\n",
       "      <th>frequency</th>\n",
       "      <th>pinyin</th>\n",
       "      <th>pinyin_toneless</th>\n",
       "      <th>tone</th>\n",
       "    </tr>\n",
       "    <tr>\n",
       "      <th>codepoint</th>\n",
       "      <th></th>\n",
       "      <th></th>\n",
       "      <th></th>\n",
       "      <th></th>\n",
       "      <th></th>\n",
       "      <th></th>\n",
       "      <th></th>\n",
       "    </tr>\n",
       "  </thead>\n",
       "  <tbody>\n",
       "    <tr>\n",
       "      <th>U+03B1</th>\n",
       "      <td>α</td>\n",
       "      <td>α</td>\n",
       "      <td>NaN</td>\n",
       "      <td>None</td>\n",
       "      <td>None</td>\n",
       "      <td>None</td>\n",
       "      <td>None</td>\n",
       "    </tr>\n",
       "    <tr>\n",
       "      <th>U+2113</th>\n",
       "      <td>ℓ</td>\n",
       "      <td>ℓ</td>\n",
       "      <td>NaN</td>\n",
       "      <td>None</td>\n",
       "      <td>None</td>\n",
       "      <td>None</td>\n",
       "      <td>None</td>\n",
       "    </tr>\n",
       "    <tr>\n",
       "      <th>U+2460</th>\n",
       "      <td>①</td>\n",
       "      <td>①</td>\n",
       "      <td>NaN</td>\n",
       "      <td>None</td>\n",
       "      <td>None</td>\n",
       "      <td>None</td>\n",
       "      <td>None</td>\n",
       "    </tr>\n",
       "    <tr>\n",
       "      <th>U+2461</th>\n",
       "      <td>②</td>\n",
       "      <td>②</td>\n",
       "      <td>NaN</td>\n",
       "      <td>None</td>\n",
       "      <td>None</td>\n",
       "      <td>None</td>\n",
       "      <td>None</td>\n",
       "    </tr>\n",
       "    <tr>\n",
       "      <th>U+2462</th>\n",
       "      <td>③</td>\n",
       "      <td>③</td>\n",
       "      <td>NaN</td>\n",
       "      <td>None</td>\n",
       "      <td>None</td>\n",
       "      <td>None</td>\n",
       "      <td>None</td>\n",
       "    </tr>\n",
       "  </tbody>\n",
       "</table>\n",
       "</div>"
      ],
      "text/plain": [
       "          character decomposition  radical frequency pinyin pinyin_toneless  \\\n",
       "codepoint                                                                     \n",
       "U+03B1            α             α      NaN      None   None            None   \n",
       "U+2113            ℓ             ℓ      NaN      None   None            None   \n",
       "U+2460            ①             ①      NaN      None   None            None   \n",
       "U+2461            ②             ②      NaN      None   None            None   \n",
       "U+2462            ③             ③      NaN      None   None            None   \n",
       "\n",
       "           tone  \n",
       "codepoint        \n",
       "U+03B1     None  \n",
       "U+2113     None  \n",
       "U+2460     None  \n",
       "U+2461     None  \n",
       "U+2462     None  "
      ]
     },
     "execution_count": 9,
     "metadata": {},
     "output_type": "execute_result"
    }
   ],
   "source": [
    "ids.head()"
   ]
  },
  {
   "cell_type": "code",
   "execution_count": 10,
   "metadata": {},
   "outputs": [],
   "source": [
    "ids.to_csv(\"joined_data.csv\")"
   ]
  },
  {
   "cell_type": "markdown",
   "metadata": {},
   "source": [
    "----\n",
    "\n",
    "Drop entries missing data."
   ]
  },
  {
   "cell_type": "code",
   "execution_count": 11,
   "metadata": {},
   "outputs": [
    {
     "data": {
      "text/plain": [
       "3799"
      ]
     },
     "execution_count": 11,
     "metadata": {},
     "output_type": "execute_result"
    }
   ],
   "source": [
    "ids = ids.dropna()\n",
    "ids[\"frequency\"] = ids.frequency.astype(int)\n",
    "len(ids)"
   ]
  },
  {
   "cell_type": "markdown",
   "metadata": {},
   "source": [
    "---\n",
    "\n",
    "Fetch candidate characters for analysis, which have a primary decomposition of semantic + phonetic radical."
   ]
  },
  {
   "cell_type": "code",
   "execution_count": 12,
   "metadata": {},
   "outputs": [
    {
     "data": {
      "text/html": [
       "<div>\n",
       "<style scoped>\n",
       "    .dataframe tbody tr th:only-of-type {\n",
       "        vertical-align: middle;\n",
       "    }\n",
       "\n",
       "    .dataframe tbody tr th {\n",
       "        vertical-align: top;\n",
       "    }\n",
       "\n",
       "    .dataframe thead th {\n",
       "        text-align: right;\n",
       "    }\n",
       "</style>\n",
       "<table border=\"1\" class=\"dataframe\">\n",
       "  <thead>\n",
       "    <tr style=\"text-align: right;\">\n",
       "      <th></th>\n",
       "      <th>character</th>\n",
       "      <th>decomposition</th>\n",
       "      <th>radical</th>\n",
       "      <th>frequency</th>\n",
       "      <th>pinyin</th>\n",
       "      <th>pinyin_toneless</th>\n",
       "      <th>tone</th>\n",
       "      <th>layout</th>\n",
       "      <th>first</th>\n",
       "      <th>second</th>\n",
       "    </tr>\n",
       "    <tr>\n",
       "      <th>codepoint</th>\n",
       "      <th></th>\n",
       "      <th></th>\n",
       "      <th></th>\n",
       "      <th></th>\n",
       "      <th></th>\n",
       "      <th></th>\n",
       "      <th></th>\n",
       "      <th></th>\n",
       "      <th></th>\n",
       "      <th></th>\n",
       "    </tr>\n",
       "  </thead>\n",
       "  <tbody>\n",
       "    <tr>\n",
       "      <th>U+4E01</th>\n",
       "      <td>丁</td>\n",
       "      <td>⿱一亅</td>\n",
       "      <td>1.0</td>\n",
       "      <td>16</td>\n",
       "      <td>dīng</td>\n",
       "      <td>ding</td>\n",
       "      <td>1</td>\n",
       "      <td>⿱</td>\n",
       "      <td>一</td>\n",
       "      <td>亅</td>\n",
       "    </tr>\n",
       "    <tr>\n",
       "      <th>U+4E03</th>\n",
       "      <td>七</td>\n",
       "      <td>⿻㇀乚</td>\n",
       "      <td>1.0</td>\n",
       "      <td>950</td>\n",
       "      <td>qī</td>\n",
       "      <td>qi</td>\n",
       "      <td>1</td>\n",
       "      <td>⿻</td>\n",
       "      <td>㇀</td>\n",
       "      <td>乚</td>\n",
       "    </tr>\n",
       "    <tr>\n",
       "      <th>U+4E09</th>\n",
       "      <td>三</td>\n",
       "      <td>⿱一二</td>\n",
       "      <td>1.0</td>\n",
       "      <td>3030</td>\n",
       "      <td>sān</td>\n",
       "      <td>san</td>\n",
       "      <td>1</td>\n",
       "      <td>⿱</td>\n",
       "      <td>一</td>\n",
       "      <td>二</td>\n",
       "    </tr>\n",
       "    <tr>\n",
       "      <th>U+4E0A</th>\n",
       "      <td>上</td>\n",
       "      <td>⿱⺊一</td>\n",
       "      <td>1.0</td>\n",
       "      <td>12308</td>\n",
       "      <td>shàng</td>\n",
       "      <td>shang</td>\n",
       "      <td>4</td>\n",
       "      <td>⿱</td>\n",
       "      <td>⺊</td>\n",
       "      <td>一</td>\n",
       "    </tr>\n",
       "    <tr>\n",
       "      <th>U+4E0B</th>\n",
       "      <td>下</td>\n",
       "      <td>⿱一卜</td>\n",
       "      <td>1.0</td>\n",
       "      <td>6430</td>\n",
       "      <td>xià</td>\n",
       "      <td>xia</td>\n",
       "      <td>4</td>\n",
       "      <td>⿱</td>\n",
       "      <td>一</td>\n",
       "      <td>卜</td>\n",
       "    </tr>\n",
       "  </tbody>\n",
       "</table>\n",
       "</div>"
      ],
      "text/plain": [
       "          character decomposition  radical  frequency pinyin pinyin_toneless  \\\n",
       "codepoint                                                                      \n",
       "U+4E01            丁           ⿱一亅      1.0         16   dīng            ding   \n",
       "U+4E03            七           ⿻㇀乚      1.0        950     qī              qi   \n",
       "U+4E09            三           ⿱一二      1.0       3030    sān             san   \n",
       "U+4E0A            上           ⿱⺊一      1.0      12308  shàng           shang   \n",
       "U+4E0B            下           ⿱一卜      1.0       6430    xià             xia   \n",
       "\n",
       "          tone layout first second  \n",
       "codepoint                           \n",
       "U+4E01       1      ⿱     一      亅  \n",
       "U+4E03       1      ⿻     ㇀      乚  \n",
       "U+4E09       1      ⿱     一      二  \n",
       "U+4E0A       4      ⿱     ⺊      一  \n",
       "U+4E0B       4      ⿱     一      卜  "
      ]
     },
     "execution_count": 12,
     "metadata": {},
     "output_type": "execute_result"
    }
   ],
   "source": [
    "two_rads = ids[ids.decomposition.str.len() == 3]\n",
    "two_rads = pd.concat([two_rads,\n",
    "                      two_rads.decomposition.apply(lambda x: pd.Series(list(x))).rename(columns={0: \"layout\", 1: \"first\", 2: \"second\"})],\n",
    "                     axis=1)\n",
    "two_rads.head()"
   ]
  },
  {
   "cell_type": "code",
   "execution_count": 13,
   "metadata": {},
   "outputs": [
    {
     "data": {
      "text/html": [
       "<div>\n",
       "<style scoped>\n",
       "    .dataframe tbody tr th:only-of-type {\n",
       "        vertical-align: middle;\n",
       "    }\n",
       "\n",
       "    .dataframe tbody tr th {\n",
       "        vertical-align: top;\n",
       "    }\n",
       "\n",
       "    .dataframe thead th {\n",
       "        text-align: right;\n",
       "    }\n",
       "</style>\n",
       "<table border=\"1\" class=\"dataframe\">\n",
       "  <thead>\n",
       "    <tr style=\"text-align: right;\">\n",
       "      <th></th>\n",
       "      <th>character</th>\n",
       "      <th>decomposition</th>\n",
       "      <th>radical</th>\n",
       "      <th>frequency</th>\n",
       "      <th>pinyin</th>\n",
       "      <th>pinyin_toneless</th>\n",
       "      <th>tone</th>\n",
       "      <th>layout</th>\n",
       "      <th>first</th>\n",
       "      <th>second</th>\n",
       "    </tr>\n",
       "    <tr>\n",
       "      <th>codepoint</th>\n",
       "      <th></th>\n",
       "      <th></th>\n",
       "      <th></th>\n",
       "      <th></th>\n",
       "      <th></th>\n",
       "      <th></th>\n",
       "      <th></th>\n",
       "      <th></th>\n",
       "      <th></th>\n",
       "      <th></th>\n",
       "    </tr>\n",
       "  </thead>\n",
       "  <tbody>\n",
       "    <tr>\n",
       "      <th>U+4E71</th>\n",
       "      <td>乱</td>\n",
       "      <td>⿰舌乚</td>\n",
       "      <td>5.0</td>\n",
       "      <td>357</td>\n",
       "      <td>luàn</td>\n",
       "      <td>luan</td>\n",
       "      <td>4</td>\n",
       "      <td>⿰</td>\n",
       "      <td>舌</td>\n",
       "      <td>乚</td>\n",
       "    </tr>\n",
       "    <tr>\n",
       "      <th>U+4E73</th>\n",
       "      <td>乳</td>\n",
       "      <td>⿰孚乚</td>\n",
       "      <td>5.0</td>\n",
       "      <td>24</td>\n",
       "      <td>rǔ</td>\n",
       "      <td>ru</td>\n",
       "      <td>3</td>\n",
       "      <td>⿰</td>\n",
       "      <td>孚</td>\n",
       "      <td>乚</td>\n",
       "    </tr>\n",
       "    <tr>\n",
       "      <th>U+4E82</th>\n",
       "      <td>亂</td>\n",
       "      <td>⿰𤔔乚</td>\n",
       "      <td>5.0</td>\n",
       "      <td>357</td>\n",
       "      <td>luàn</td>\n",
       "      <td>luan</td>\n",
       "      <td>4</td>\n",
       "      <td>⿰</td>\n",
       "      <td>𤔔</td>\n",
       "      <td>乚</td>\n",
       "    </tr>\n",
       "    <tr>\n",
       "      <th>U+4EBF</th>\n",
       "      <td>亿</td>\n",
       "      <td>⿰亻乙</td>\n",
       "      <td>9.0</td>\n",
       "      <td>195</td>\n",
       "      <td>yì</td>\n",
       "      <td>yi</td>\n",
       "      <td>4</td>\n",
       "      <td>⿰</td>\n",
       "      <td>亻</td>\n",
       "      <td>乙</td>\n",
       "    </tr>\n",
       "    <tr>\n",
       "      <th>U+4EC0</th>\n",
       "      <td>什</td>\n",
       "      <td>⿰亻十</td>\n",
       "      <td>9.0</td>\n",
       "      <td>4045</td>\n",
       "      <td>shén</td>\n",
       "      <td>shen</td>\n",
       "      <td>2</td>\n",
       "      <td>⿰</td>\n",
       "      <td>亻</td>\n",
       "      <td>十</td>\n",
       "    </tr>\n",
       "  </tbody>\n",
       "</table>\n",
       "</div>"
      ],
      "text/plain": [
       "          character decomposition  radical  frequency pinyin pinyin_toneless  \\\n",
       "codepoint                                                                      \n",
       "U+4E71            乱           ⿰舌乚      5.0        357   luàn            luan   \n",
       "U+4E73            乳           ⿰孚乚      5.0         24     rǔ              ru   \n",
       "U+4E82            亂           ⿰𤔔乚      5.0        357   luàn            luan   \n",
       "U+4EBF            亿           ⿰亻乙      9.0        195     yì              yi   \n",
       "U+4EC0            什           ⿰亻十      9.0       4045   shén            shen   \n",
       "\n",
       "          tone layout first second  \n",
       "codepoint                           \n",
       "U+4E71       4      ⿰     舌      乚  \n",
       "U+4E73       3      ⿰     孚      乚  \n",
       "U+4E82       4      ⿰     𤔔      乚  \n",
       "U+4EBF       4      ⿰     亻      乙  \n",
       "U+4EC0       2      ⿰     亻      十  "
      ]
     },
     "execution_count": 13,
     "metadata": {},
     "output_type": "execute_result"
    }
   ],
   "source": [
    "analysis_chars = two_rads[two_rads.layout == \"⿰\"]\n",
    "analysis_chars.head()"
   ]
  },
  {
   "cell_type": "code",
   "execution_count": 14,
   "metadata": {},
   "outputs": [
    {
     "data": {
      "text/plain": [
       "first\n",
       "扌    205\n",
       "氵    166\n",
       "口    134\n",
       "亻    114\n",
       "木     99\n",
       "纟     62\n",
       "讠     61\n",
       "忄     60\n",
       "言     57\n",
       "钅     49\n",
       "金     48\n",
       "土     42\n",
       "阝     41\n",
       "虫     38\n",
       "火     36\n",
       "石     36\n",
       "女     35\n",
       "禾     33\n",
       "𧾷     33\n",
       "犭     29\n",
       "目     23\n",
       "衤     21\n",
       "彳     19\n",
       "日     19\n",
       "王     17\n",
       "马     16\n",
       "馬     16\n",
       "车     14\n",
       "月     14\n",
       "冫     14\n",
       "dtype: int64"
      ]
     },
     "execution_count": 14,
     "metadata": {},
     "output_type": "execute_result"
    }
   ],
   "source": [
    "analysis_chars.groupby(\"first\").size().sort_values(ascending=False).head(30)#frequency.sum().sort_values(ascending=False).head(30)"
   ]
  },
  {
   "cell_type": "code",
   "execution_count": 16,
   "metadata": {},
   "outputs": [
    {
     "data": {
      "text/plain": [
       "pinyin_toneless\n",
       "ji       34\n",
       "jian     31\n",
       "shi      27\n",
       "fu       26\n",
       "yi       25\n",
       "zhi      22\n",
       "li       21\n",
       "jiao     21\n",
       "ju       19\n",
       "zhu      19\n",
       "xi       18\n",
       "xian     18\n",
       "wei      17\n",
       "yan      17\n",
       "yu       16\n",
       "jie      15\n",
       "you      15\n",
       "xie      15\n",
       "jing     15\n",
       "bo       14\n",
       "qi       14\n",
       "ya       13\n",
       "zhen     13\n",
       "yin      13\n",
       "xu       12\n",
       "shu      12\n",
       "yang     12\n",
       "qian     12\n",
       "xiang    12\n",
       "e        12\n",
       "dtype: int64"
      ]
     },
     "execution_count": 16,
     "metadata": {},
     "output_type": "execute_result"
    }
   ],
   "source": [
    "analysis_chars.groupby(\"pinyin_toneless\").size().sort_values(ascending=False).head(30)#frequency.sum().sort_values(ascending=False).head(30)"
   ]
  },
  {
   "cell_type": "code",
   "execution_count": 77,
   "metadata": {},
   "outputs": [
    {
     "data": {
      "text/plain": [
       "pinyin_toneless  tone\n",
       "ji               4       3.475952\n",
       "xi               1       3.126805\n",
       "yi               4       3.062331\n",
       "jian             3       2.818978\n",
       "qu               1       2.798073\n",
       "jing             4       2.776677\n",
       "jian             4       2.764316\n",
       "zhi              2       2.758300\n",
       "jiao             1       2.696775\n",
       "bo               1       2.670156\n",
       "fu               2       2.580945\n",
       "song             4       2.513466\n",
       "xie              2       2.512925\n",
       "long             2       2.512336\n",
       "yang             2       2.492262\n",
       "shi              4       2.484392\n",
       "fu               4       2.471684\n",
       "ji               1       2.469102\n",
       "jiao             3       2.431979\n",
       "yu               4       2.425043\n",
       "shu              1       2.413322\n",
       "shi              1       2.396830\n",
       "ling             2       2.345448\n",
       "ci               2       2.297094\n",
       "ya               1       2.291783\n",
       "zhu              1       2.285050\n",
       "zhuang           4       2.238048\n",
       "zheng            1       2.230171\n",
       "fu               3       2.222459\n",
       "zhang            4       2.218671\n",
       "dtype: float64"
      ]
     },
     "execution_count": 77,
     "metadata": {},
     "output_type": "execute_result"
    }
   ],
   "source": [
    "# Grouping by toneless + tone, get entropy of remaining distribution over characters.\n",
    "def get_entropy(rows):\n",
    "    probs = rows.frequency / rows.frequency.sum()\n",
    "    return -(probs * np.log(probs) / np.log(2)).sum()\n",
    "\n",
    "pinyin_tone_entropies = analysis_chars.groupby([\"pinyin_toneless\", \"tone\"]).apply(get_entropy)\n",
    "pinyin_tone_entropies.sort_values(ascending=False).head(30)"
   ]
  },
  {
   "cell_type": "code",
   "execution_count": 78,
   "metadata": {},
   "outputs": [
    {
     "data": {
      "text/plain": [
       "0.857327548790452"
      ]
     },
     "execution_count": 78,
     "metadata": {},
     "output_type": "execute_result"
    }
   ],
   "source": [
    "pinyin_tone_entropies.median()"
   ]
  },
  {
   "cell_type": "code",
   "execution_count": 79,
   "metadata": {},
   "outputs": [
    {
     "data": {
      "text/plain": [
       "<matplotlib.axes._subplots.AxesSubplot at 0x7f25327af438>"
      ]
     },
     "execution_count": 79,
     "metadata": {},
     "output_type": "execute_result"
    },
    {
     "data": {
      "image/png": "[encoded data removed]",
      "text/plain": [
       "<Figure size 432x288 with 1 Axes>"
      ]
     },
     "metadata": {
      "needs_background": "light"
     },
     "output_type": "display_data"
    }
   ],
   "source": [
    "sns.boxplot(pinyin_tone_entropies)"
   ]
  },
  {
   "cell_type": "code",
   "execution_count": 80,
   "metadata": {},
   "outputs": [
    {
     "data": {
      "text/plain": [
       "pinyin_toneless  first\n",
       "yi               亻        2.413291\n",
       "fu               亻        2.181136\n",
       "yin              阝        1.983324\n",
       "tao              氵        1.965846\n",
       "xie              扌        1.957553\n",
       "xian             阝        1.912048\n",
       "ji               木        1.830098\n",
       "jian             扌        1.788941\n",
       "                 氵        1.764218\n",
       "wei              亻        1.738971\n",
       "bo               扌        1.702920\n",
       "jia              亻        1.633922\n",
       "ne               口        1.584963\n",
       "kuo              扌        1.584101\n",
       "nian             扌        1.583477\n",
       "xiao             口        1.583394\n",
       "ban              扌        1.579592\n",
       "wei              口        1.533357\n",
       "po               氵        1.528097\n",
       "tan              氵        1.510971\n",
       "hun              氵        1.501261\n",
       "xu               口        1.500000\n",
       "wo               氵        1.491618\n",
       "tan              扌        1.485960\n",
       "ji               氵        1.485075\n",
       "can              忄        1.484186\n",
       "qian             氵        1.479972\n",
       "hai              口        1.442224\n",
       "ma               虫        1.428195\n",
       "xun              讠        1.342462\n",
       "dtype: float64"
      ]
     },
     "execution_count": 80,
     "metadata": {},
     "output_type": "execute_result"
    }
   ],
   "source": [
    "pinyin_sem_entropies = analysis_chars.groupby([\"pinyin_toneless\", \"first\"]).apply(get_entropy)\n",
    "pinyin_sem_entropies.sort_values(ascending=False).head(30)"
   ]
  },
  {
   "cell_type": "code",
   "execution_count": 81,
   "metadata": {},
   "outputs": [
    {
     "data": {
      "text/plain": [
       "0.0"
      ]
     },
     "execution_count": 81,
     "metadata": {},
     "output_type": "execute_result"
    }
   ],
   "source": [
    "pinyin_sem_entropies.median()"
   ]
  },
  {
   "cell_type": "code",
   "execution_count": 82,
   "metadata": {},
   "outputs": [
    {
     "data": {
      "text/plain": [
       "<matplotlib.axes._subplots.AxesSubplot at 0x7f2532d9d5c0>"
      ]
     },
     "execution_count": 82,
     "metadata": {},
     "output_type": "execute_result"
    },
    {
     "data": {
      "image/png": "[encoded data removed]",
      "text/plain": [
       "<Figure size 432x288 with 1 Axes>"
      ]
     },
     "metadata": {
      "needs_background": "light"
     },
     "output_type": "display_data"
    }
   ],
   "source": [
    "sns.boxplot(pinyin_sem_entropies)"
   ]
  },
  {
   "cell_type": "code",
   "execution_count": 83,
   "metadata": {},
   "outputs": [],
   "source": [
    "summary_df = pd.concat([pinyin_sem_entropies.groupby(\"pinyin_toneless\").mean(),\n",
    "                        pinyin_tone_entropies.groupby(\"pinyin_toneless\").mean()],\n",
    "                       axis=1, keys=[\"semantic\", \"tone\"])"
   ]
  },
  {
   "cell_type": "code",
   "execution_count": 84,
   "metadata": {},
   "outputs": [
    {
     "data": {
      "text/plain": [
       "<matplotlib.axes._subplots.AxesSubplot at 0x7f25327204e0>"
      ]
     },
     "execution_count": 84,
     "metadata": {},
     "output_type": "execute_result"
    },
    {
     "data": {
      "image/png": "[encoded data removed]",
      "text/plain": [
       "<Figure size 432x288 with 1 Axes>"
      ]
     },
     "metadata": {
      "needs_background": "light"
     },
     "output_type": "display_data"
    }
   ],
   "source": [
    "sns.barplot(x=\"variable\", y=\"value\", data=summary_df.reset_index().melt(id_vars=[\"pinyin_toneless\"]))"
   ]
  },
  {
   "cell_type": "code",
   "execution_count": 85,
   "metadata": {},
   "outputs": [
    {
     "data": {
      "text/html": [
       "<div>\n",
       "<style scoped>\n",
       "    .dataframe tbody tr th:only-of-type {\n",
       "        vertical-align: middle;\n",
       "    }\n",
       "\n",
       "    .dataframe tbody tr th {\n",
       "        vertical-align: top;\n",
       "    }\n",
       "\n",
       "    .dataframe thead th {\n",
       "        text-align: right;\n",
       "    }\n",
       "</style>\n",
       "<table border=\"1\" class=\"dataframe\">\n",
       "  <thead>\n",
       "    <tr style=\"text-align: right;\">\n",
       "      <th></th>\n",
       "      <th>semantic</th>\n",
       "      <th>tone</th>\n",
       "    </tr>\n",
       "    <tr>\n",
       "      <th>pinyin_toneless</th>\n",
       "      <th></th>\n",
       "      <th></th>\n",
       "    </tr>\n",
       "  </thead>\n",
       "  <tbody>\n",
       "    <tr>\n",
       "      <th>a</th>\n",
       "      <td>0.415160</td>\n",
       "      <td>0.441405</td>\n",
       "    </tr>\n",
       "    <tr>\n",
       "      <th>ai</th>\n",
       "      <td>0.166667</td>\n",
       "      <td>0.833800</td>\n",
       "    </tr>\n",
       "    <tr>\n",
       "      <th>an</th>\n",
       "      <td>0.200000</td>\n",
       "      <td>0.685944</td>\n",
       "    </tr>\n",
       "    <tr>\n",
       "      <th>ao</th>\n",
       "      <td>0.000000</td>\n",
       "      <td>0.000000</td>\n",
       "    </tr>\n",
       "    <tr>\n",
       "      <th>ba</th>\n",
       "      <td>0.433395</td>\n",
       "      <td>0.218649</td>\n",
       "    </tr>\n",
       "    <tr>\n",
       "      <th>...</th>\n",
       "      <td>...</td>\n",
       "      <td>...</td>\n",
       "    </tr>\n",
       "    <tr>\n",
       "      <th>zong</th>\n",
       "      <td>0.986017</td>\n",
       "      <td>0.559039</td>\n",
       "    </tr>\n",
       "    <tr>\n",
       "      <th>zu</th>\n",
       "      <td>0.000000</td>\n",
       "      <td>0.292517</td>\n",
       "    </tr>\n",
       "    <tr>\n",
       "      <th>zuan</th>\n",
       "      <td>0.000000</td>\n",
       "      <td>0.500000</td>\n",
       "    </tr>\n",
       "    <tr>\n",
       "      <th>zui</th>\n",
       "      <td>0.000000</td>\n",
       "      <td>0.000000</td>\n",
       "    </tr>\n",
       "    <tr>\n",
       "      <th>zuo</th>\n",
       "      <td>0.446308</td>\n",
       "      <td>0.446308</td>\n",
       "    </tr>\n",
       "  </tbody>\n",
       "</table>\n",
       "<p>359 rows × 2 columns</p>\n",
       "</div>"
      ],
      "text/plain": [
       "                 semantic      tone\n",
       "pinyin_toneless                    \n",
       "a                0.415160  0.441405\n",
       "ai               0.166667  0.833800\n",
       "an               0.200000  0.685944\n",
       "ao               0.000000  0.000000\n",
       "ba               0.433395  0.218649\n",
       "...                   ...       ...\n",
       "zong             0.986017  0.559039\n",
       "zu               0.000000  0.292517\n",
       "zuan             0.000000  0.500000\n",
       "zui              0.000000  0.000000\n",
       "zuo              0.446308  0.446308\n",
       "\n",
       "[359 rows x 2 columns]"
      ]
     },
     "execution_count": 85,
     "metadata": {},
     "output_type": "execute_result"
    }
   ],
   "source": [
    "summary_df"
   ]
  },
  {
   "cell_type": "code",
   "execution_count": 86,
   "metadata": {},
   "outputs": [
    {
     "data": {
      "text/plain": [
       "Ttest_relResult(statistic=-17.370841537934375, pvalue=1.861006079167013e-49)"
      ]
     },
     "execution_count": 86,
     "metadata": {},
     "output_type": "execute_result"
    }
   ],
   "source": [
    "stats.ttest_rel(summary_df.semantic, summary_df.tone)"
   ]
  },
  {
   "cell_type": "code",
   "execution_count": null,
   "metadata": {},
   "outputs": [],
   "source": []
  }
 ],
 "metadata": {
  "kernelspec": {
   "display_name": "Python 3",
   "language": "python",
   "name": "python3"
  },
  "language_info": {
   "codemirror_mode": {
    "name": "ipython",
    "version": 3
   },
   "file_extension": ".py",
   "mimetype": "text/x-python",
   "name": "python",
   "nbconvert_exporter": "python",
   "pygments_lexer": "ipython3",
   "version": "3.7.3"
  }
 },
 "nbformat": 4,
 "nbformat_minor": 4
}
